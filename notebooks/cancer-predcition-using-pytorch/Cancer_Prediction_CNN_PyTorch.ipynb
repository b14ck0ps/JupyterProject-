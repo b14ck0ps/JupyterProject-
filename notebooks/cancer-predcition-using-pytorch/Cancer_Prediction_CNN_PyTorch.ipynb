{
 "cells": [
  {
   "attachments": {},
   "cell_type": "markdown",
   "metadata": {},
   "source": [
    "Import necessary libraries"
   ]
  },
  {
   "cell_type": "code",
   "execution_count": 8,
   "metadata": {},
   "outputs": [],
   "source": [
    "import torch\n",
    "import torch.nn as nn\n",
    "import torch.optim as optim\n",
    "import torchvision.datasets as datasets\n",
    "import torchvision.transforms as transforms\n",
    "import numpy as np\n",
    "import matplotlib.pyplot as plt\n",
    "import sklearn"
   ]
  },
  {
   "cell_type": "code",
   "execution_count": 9,
   "metadata": {},
   "outputs": [],
   "source": [
    "# Set device to GPU if available\n",
    "device = torch.device(\"cuda\" if torch.cuda.is_available() else \"cpu\")"
   ]
  },
  {
   "cell_type": "code",
   "execution_count": 10,
   "metadata": {},
   "outputs": [],
   "source": [
    "# Set random seed for reproducibility\n",
    "torch.manual_seed(42)\n",
    "\n",
    "# Define transforms for data augmentation and normalization\n",
    "train_transform = transforms.Compose([\n",
    "    transforms.RandomResizedCrop(224),\n",
    "    transforms.RandomHorizontalFlip(),\n",
    "    transforms.ToTensor(),\n",
    "    transforms.Normalize(mean=[0.485, 0.456, 0.406], std=[0.229, 0.224, 0.225])\n",
    "])\n",
    "\n",
    "test_transform = transforms.Compose([\n",
    "    transforms.Resize(256),\n",
    "    transforms.CenterCrop(224),\n",
    "    transforms.ToTensor(),\n",
    "    transforms.Normalize(mean=[0.485, 0.456, 0.406], std=[0.229, 0.224, 0.225])\n",
    "])"
   ]
  },
  {
   "cell_type": "code",
   "execution_count": 11,
   "metadata": {},
   "outputs": [],
   "source": [
    "# Load the dataset\n",
    "train_dataset = datasets.ImageFolder('data/train', transform=train_transform)\n",
    "test_dataset = datasets.ImageFolder('data/test', transform=test_transform)\n",
    "\n",
    "# Define the CNN model\n",
    "class CancerCNN(nn.Module):\n",
    "    def __init__(self):\n",
    "        super(CancerCNN, self).__init__()\n",
    "        self.conv1 = nn.Conv2d(3, 64, kernel_size=3, padding=1)\n",
    "        self.conv2 = nn.Conv2d(64, 128, kernel_size=3, padding=1)\n",
    "        self.conv3 = nn.Conv2d(128, 256, kernel_size=3, padding=1)\n",
    "        self.pool = nn.MaxPool2d(kernel_size=2, stride=2)\n",
    "        self.dropout = nn.Dropout(0.5)\n",
    "        self.fc1 = nn.Linear(256 * 28 * 28, 512)\n",
    "        self.fc2 = nn.Linear(512, 2)\n",
    "        self.relu = nn.ReLU()\n",
    "\n",
    "    def forward(self, x):\n",
    "        x = self.relu(self.conv1(x))\n",
    "        x = self.pool(x)\n",
    "        x = self.relu(self.conv2(x))\n",
    "        x = self.pool(x)\n",
    "        x = self.relu(self.conv3(x))\n",
    "        x = self.pool(x)\n",
    "        x = x.view(-1, 256 * 28 * 28)\n",
    "        x = self.dropout(self.relu(self.fc1(x)))\n",
    "        x = self.fc2(x)\n",
    "        return x\n"
   ]
  },
  {
   "cell_type": "markdown",
   "metadata": {},
   "source": [
    "Define the loss function and optimizer"
   ]
  },
  {
   "cell_type": "code",
   "execution_count": 12,
   "metadata": {},
   "outputs": [],
   "source": [
    "model = CancerCNN().to(device)\n",
    "criterion = nn.CrossEntropyLoss()\n",
    "optimizer = optim.SGD(model.parameters(), lr=0.01)"
   ]
  },
  {
   "cell_type": "code",
   "execution_count": 13,
   "metadata": {},
   "outputs": [],
   "source": [
    "train_loader = torch.utils.data.DataLoader(train_dataset, batch_size=32, shuffle=True)\n",
    "test_loader = torch.utils.data.DataLoader(test_dataset, batch_size=32, shuffle=False)"
   ]
  },
  {
   "attachments": {},
   "cell_type": "markdown",
   "metadata": {},
   "source": [
    "Train The model"
   ]
  },
  {
   "cell_type": "code",
   "execution_count": 14,
   "metadata": {},
   "outputs": [
    {
     "name": "stdout",
     "output_type": "stream",
     "text": [
      "Train set: Average loss: 0.0227, Accuracy: 105/178 (59%)\n",
      "Test set: Average loss: 0.0284, Accuracy: 59/130 (45%)\n",
      "\n",
      "F1 score: 0.3122\n",
      "Train set: Average loss: 0.0220, Accuracy: 117/178 (66%)\n",
      "Test set: Average loss: 0.0241, Accuracy: 92/130 (71%)\n",
      "\n",
      "F1 score: 0.7076\n",
      "Train set: Average loss: 0.0200, Accuracy: 130/178 (73%)\n",
      "Test set: Average loss: 0.0223, Accuracy: 82/130 (63%)\n",
      "\n",
      "F1 score: 0.5308\n",
      "Train set: Average loss: 0.0179, Accuracy: 130/178 (73%)\n",
      "Test set: Average loss: 0.0203, Accuracy: 99/130 (76%)\n",
      "\n",
      "F1 score: 0.7612\n",
      "Train set: Average loss: 0.0145, Accuracy: 150/178 (84%)\n",
      "Test set: Average loss: 0.0239, Accuracy: 87/130 (67%)\n",
      "\n",
      "F1 score: 0.6585\n",
      "Train set: Average loss: 0.0160, Accuracy: 138/178 (78%)\n",
      "Test set: Average loss: 0.0165, Accuracy: 102/130 (78%)\n",
      "\n",
      "F1 score: 0.7813\n",
      "Train set: Average loss: 0.0146, Accuracy: 146/178 (82%)\n",
      "Test set: Average loss: 0.0160, Accuracy: 103/130 (79%)\n",
      "\n",
      "F1 score: 0.7917\n",
      "Train set: Average loss: 0.0110, Accuracy: 159/178 (89%)\n",
      "Test set: Average loss: 0.0347, Accuracy: 77/130 (59%)\n",
      "\n",
      "F1 score: 0.5473\n",
      "Train set: Average loss: 0.0183, Accuracy: 129/178 (72%)\n",
      "Test set: Average loss: 0.0150, Accuracy: 105/130 (81%)\n",
      "\n",
      "F1 score: 0.8051\n",
      "Train set: Average loss: 0.0112, Accuracy: 154/178 (87%)\n",
      "Test set: Average loss: 0.0138, Accuracy: 106/130 (82%)\n",
      "\n",
      "F1 score: 0.8125\n"
     ]
    }
   ],
   "source": [
    "\n",
    "for epoch in range(10):\n",
    "    train_loss = 0\n",
    "    train_correct = 0\n",
    "    model.train()\n",
    "\n",
    "    for batch_idx, (data, target) in enumerate(train_loader):\n",
    "        data, target = data.to(device), target.to(device)\n",
    "        optimizer.zero_grad()\n",
    "        output = model(data)\n",
    "        loss = criterion(output, target)\n",
    "        train_loss += loss.item()\n",
    "        pred = output.argmax(dim=1, keepdim=True)\n",
    "        train_correct += pred.eq(target.view_as(pred)).sum().item()\n",
    "        loss.backward()\n",
    "        optimizer.step()\n",
    "\n",
    "    train_loss /= len(train_loader.dataset)\n",
    "    train_acc = 100. * train_correct / len(train_loader.dataset)\n",
    "    print('Train set: Average loss: {:.4f}, Accuracy: {}/{} ({:.0f}%)'.format(\n",
    "        train_loss, train_correct, len(train_loader.dataset), train_acc))\n",
    "\n",
    "    # Test the model\n",
    "    model.eval()\n",
    "    test_loss = 0\n",
    "    test_correct = 0\n",
    "    all_preds = []\n",
    "    all_targets = []\n",
    "\n",
    "    with torch.no_grad():\n",
    "        for data, target in test_loader:\n",
    "            data, target = data.to(device), target.to(device)\n",
    "            output = model(data)\n",
    "            test_loss += criterion(output, target).item()\n",
    "            pred = output.argmax(dim=1, keepdim=True)\n",
    "            test_correct += pred.eq(target.view_as(pred)).sum().item()\n",
    "            all_preds.extend(pred.cpu().numpy())\n",
    "            all_targets.extend(target.cpu().numpy())\n",
    "\n",
    "    test_loss /= len(test_loader.dataset)\n",
    "    test_acc = 100. * test_correct / len(test_loader.dataset)\n",
    "    print('Test set: Average loss: {:.4f}, Accuracy: {}/{} ({:.0f}%)\\n'.format(\n",
    "        test_loss, test_correct, len(test_loader.dataset), test_acc))\n",
    "\n",
    "    # Calculate F1 score\n",
    "    all_preds = np.array(all_preds)\n",
    "    all_targets = np.array(all_targets)\n",
    "    f1_score = sklearn.metrics.f1_score(all_targets, all_preds, average='macro')\n",
    "    print('F1 score: {:.4f}'.format(f1_score))\n",
    "\n",
    "# Save the model\n",
    "torch.save(model.state_dict(), 'cancer_cnn.pth')"
   ]
  }
 ],
 "metadata": {
  "kernelspec": {
   "display_name": "base",
   "language": "python",
   "name": "python3"
  },
  "language_info": {
   "codemirror_mode": {
    "name": "ipython",
    "version": 3
   },
   "file_extension": ".py",
   "mimetype": "text/x-python",
   "name": "python",
   "nbconvert_exporter": "python",
   "pygments_lexer": "ipython3",
   "version": "3.9.13"
  },
  "orig_nbformat": 4
 },
 "nbformat": 4,
 "nbformat_minor": 2
}
