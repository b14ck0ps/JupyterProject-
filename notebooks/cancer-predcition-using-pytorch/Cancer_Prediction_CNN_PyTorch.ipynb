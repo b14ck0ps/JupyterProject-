{
 "cells": [
  {
   "attachments": {},
   "cell_type": "markdown",
   "metadata": {},
   "source": [
    "Import necessary libraries"
   ]
  },
  {
   "cell_type": "code",
   "execution_count": 11,
   "metadata": {},
   "outputs": [],
   "source": [
    "import torch\n",
    "import torch.nn as nn\n",
    "import torch.optim as optim\n",
    "import torchvision.datasets as datasets\n",
    "import torchvision.transforms as transforms\n",
    "import numpy as np\n",
    "import matplotlib.pyplot as plt\n",
    "from sklearn import metrics"
   ]
  },
  {
   "cell_type": "code",
   "execution_count": 2,
   "metadata": {},
   "outputs": [],
   "source": [
    "# Set device to GPU if available\n",
    "device = torch.device(\"cuda\" if torch.cuda.is_available() else \"cpu\")"
   ]
  },
  {
   "cell_type": "markdown",
   "metadata": {},
   "source": [
    "Hyperparameters"
   ]
  },
  {
   "cell_type": "code",
   "execution_count": 3,
   "metadata": {},
   "outputs": [],
   "source": [
    "image_size = 224\n",
    "rotation = 10\n",
    "normalization_mean = [0.5, 0.5, 0.5]\n",
    "normalization_std = [0.5, 0.5, 0.5]\n",
    "\n",
    "learning_rate = 0.01\n",
    "batch_size = 32\n",
    "epochs = 10"
   ]
  },
  {
   "attachments": {},
   "cell_type": "markdown",
   "metadata": {},
   "source": [
    "Image processing steps"
   ]
  },
  {
   "cell_type": "code",
   "execution_count": 4,
   "metadata": {},
   "outputs": [],
   "source": [
    "train_transform = transforms.Compose([\n",
    "    # Resize the images \n",
    "    transforms.Resize((image_size, image_size)),\n",
    "    transforms.RandomHorizontalFlip(),  # Flip the images horizontally at random\n",
    "    # Rotate the images\n",
    "    transforms.RandomRotation(rotation),\n",
    "    transforms.ToTensor(),  # Convert the images to PyTorch tensors\n",
    "    # Normalize the pixel values to [-1, 1]\n",
    "    transforms.Normalize(normalization_mean, normalization_std)\n",
    "])\n",
    "test_transform = transforms.Compose([\n",
    "    # Resize the images to 224x224 pixels\n",
    "    transforms.Resize((image_size, image_size)),\n",
    "    transforms.ToTensor(),  # Convert the images to PyTorch tensors\n",
    "    # Normalize the pixel values to [-1, 1]\n",
    "    transforms.Normalize(normalization_mean, normalization_std)\n",
    "])"
   ]
  },
  {
   "cell_type": "code",
   "execution_count": 5,
   "metadata": {},
   "outputs": [],
   "source": [
    "# Load the dataset\n",
    "train_dataset = datasets.ImageFolder('data/train', transform=train_transform)\n",
    "test_dataset = datasets.ImageFolder('data/test', transform=test_transform)"
   ]
  },
  {
   "cell_type": "code",
   "execution_count": 6,
   "metadata": {},
   "outputs": [],
   "source": [
    "\n",
    "# Define the CNN model\n",
    "class CancerCNN(nn.Module):\n",
    "    def __init__(self):\n",
    "        super(CancerCNN, self).__init__()\n",
    "        self.conv1 = nn.Conv2d(3, 64, kernel_size=3, padding=1)\n",
    "        self.conv2 = nn.Conv2d(64, 128, kernel_size=3, padding=1)\n",
    "        self.conv3 = nn.Conv2d(128, 256, kernel_size=3, padding=1)\n",
    "        self.pool = nn.MaxPool2d(kernel_size=2, stride=2)\n",
    "        self.dropout = nn.Dropout(0.5)\n",
    "        self.fc1 = nn.Linear(256 * 28 * 28, 512)\n",
    "        self.fc2 = nn.Linear(512, 2)\n",
    "        self.relu = nn.ReLU()\n",
    "\n",
    "    def forward(self, x):\n",
    "        x = self.relu(self.conv1(x))\n",
    "        x = self.pool(x)\n",
    "        x = self.relu(self.conv2(x))\n",
    "        x = self.pool(x)\n",
    "        x = self.relu(self.conv3(x))\n",
    "        x = self.pool(x)\n",
    "        x = x.view(-1, 256 * 28 * 28)\n",
    "        x = self.dropout(self.relu(self.fc1(x)))\n",
    "        x = self.fc2(x)\n",
    "        return x\n"
   ]
  },
  {
   "cell_type": "markdown",
   "metadata": {},
   "source": [
    "Define the loss function and optimizer"
   ]
  },
  {
   "cell_type": "code",
   "execution_count": 7,
   "metadata": {},
   "outputs": [],
   "source": [
    "model = CancerCNN().to(device)\n",
    "criterion = nn.CrossEntropyLoss()\n",
    "optimizer = optim.SGD(model.parameters(), lr=learning_rate)"
   ]
  },
  {
   "cell_type": "code",
   "execution_count": 8,
   "metadata": {},
   "outputs": [],
   "source": [
    "train_loader = torch.utils.data.DataLoader(train_dataset, batch_size, shuffle=True)\n",
    "test_loader = torch.utils.data.DataLoader(test_dataset, batch_size, shuffle=False)"
   ]
  },
  {
   "attachments": {},
   "cell_type": "markdown",
   "metadata": {},
   "source": [
    "Train The model"
   ]
  },
  {
   "cell_type": "code",
   "execution_count": 13,
   "metadata": {},
   "outputs": [
    {
     "name": "stdout",
     "output_type": "stream",
     "text": [
      "Train set: Average loss: 0.0165, Accuracy: 141/178 (79%)\n",
      "Test set: Average loss: 0.0158, Accuracy: 104/130 (80%)\n",
      "\n",
      "F1 score: 0.7996\n",
      "------------------------------------------------------\n",
      "Train set: Average loss: 0.0092, Accuracy: 163/178 (92%)\n",
      "Test set: Average loss: 0.0139, Accuracy: 105/130 (81%)\n",
      "\n",
      "F1 score: 0.8051\n",
      "------------------------------------------------------\n",
      "Train set: Average loss: 0.0242, Accuracy: 120/178 (67%)\n",
      "Test set: Average loss: 0.0161, Accuracy: 101/130 (78%)\n",
      "\n",
      "F1 score: 0.7739\n",
      "------------------------------------------------------\n",
      "Train set: Average loss: 0.0098, Accuracy: 159/178 (89%)\n",
      "Test set: Average loss: 0.0147, Accuracy: 103/130 (79%)\n",
      "\n",
      "F1 score: 0.7917\n",
      "------------------------------------------------------\n",
      "Train set: Average loss: 0.0085, Accuracy: 163/178 (92%)\n",
      "Test set: Average loss: 0.0191, Accuracy: 101/130 (78%)\n",
      "\n",
      "F1 score: 0.7739\n",
      "------------------------------------------------------\n",
      "Train set: Average loss: 0.0080, Accuracy: 161/178 (90%)\n",
      "Test set: Average loss: 0.0121, Accuracy: 107/130 (82%)\n",
      "\n",
      "F1 score: 0.8230\n",
      "------------------------------------------------------\n",
      "Train set: Average loss: 0.0143, Accuracy: 143/178 (80%)\n",
      "Test set: Average loss: 0.0166, Accuracy: 103/130 (79%)\n",
      "\n",
      "F1 score: 0.7922\n",
      "------------------------------------------------------\n",
      "Train set: Average loss: 0.0062, Accuracy: 167/178 (94%)\n",
      "Test set: Average loss: 0.0117, Accuracy: 109/130 (84%)\n",
      "\n",
      "F1 score: 0.8377\n",
      "------------------------------------------------------\n",
      "Train set: Average loss: 0.0066, Accuracy: 162/178 (91%)\n",
      "Test set: Average loss: 0.0239, Accuracy: 96/130 (74%)\n",
      "\n",
      "F1 score: 0.7321\n",
      "------------------------------------------------------\n",
      "Train set: Average loss: 0.0081, Accuracy: 156/178 (88%)\n",
      "Test set: Average loss: 0.0112, Accuracy: 109/130 (84%)\n",
      "\n",
      "F1 score: 0.8382\n",
      "------------------------------------------------------\n"
     ]
    }
   ],
   "source": [
    "for epoch in range(epochs):\n",
    "    train_loss = 0\n",
    "    train_correct = 0\n",
    "    model.train()\n",
    "\n",
    "    for batch_idx, (data, target) in enumerate(train_loader):\n",
    "        data, target = data.to(device), target.to(device)\n",
    "        optimizer.zero_grad()\n",
    "        output = model(data)\n",
    "        loss = criterion(output, target)\n",
    "        train_loss += loss.item()\n",
    "        pred = output.argmax(dim=1, keepdim=True)\n",
    "        train_correct += pred.eq(target.view_as(pred)).sum().item()\n",
    "        loss.backward()\n",
    "        optimizer.step()\n",
    "\n",
    "    train_loss /= len(train_loader.dataset)\n",
    "    train_acc = 100. * train_correct / len(train_loader.dataset)\n",
    "    print('Train set: Average loss: {:.4f}, Accuracy: {}/{} ({:.0f}%)'.format(\n",
    "        train_loss, train_correct, len(train_loader.dataset), train_acc))\n",
    "\n",
    "    # Test the model\n",
    "    model.eval()\n",
    "    test_loss = 0\n",
    "    test_correct = 0\n",
    "    all_preds = []\n",
    "    all_targets = []\n",
    "\n",
    "    with torch.no_grad():\n",
    "        for data, target in test_loader:\n",
    "            data, target = data.to(device), target.to(device)\n",
    "            output = model(data)\n",
    "            test_loss += criterion(output, target).item()\n",
    "            pred = output.argmax(dim=1, keepdim=True)\n",
    "            test_correct += pred.eq(target.view_as(pred)).sum().item()\n",
    "            all_preds.extend(pred.cpu().numpy())\n",
    "            all_targets.extend(target.cpu().numpy())\n",
    "\n",
    "    test_loss /= len(test_loader.dataset)\n",
    "    test_acc = 100. * test_correct / len(test_loader.dataset)\n",
    "    print('Test set: Average loss: {:.4f}, Accuracy: {}/{} ({:.0f}%)\\n'.format(\n",
    "        test_loss, test_correct, len(test_loader.dataset), test_acc))\n",
    "\n",
    "    # Calculate F1 score\n",
    "    all_preds = np.array(all_preds)\n",
    "    all_targets = np.array(all_targets)\n",
    "    f1_score = metrics.f1_score(all_targets, all_preds, average='macro')\n",
    "    print('F1 score: {:.4f}'.format(f1_score))\n",
    "    print('------------------------------------------------------')\n",
    "\n",
    "# Save the model\n",
    "torch.save(model.state_dict(), 'cancer_cnn.pth')"
   ]
  }
 ],
 "metadata": {
  "kernelspec": {
   "display_name": "base",
   "language": "python",
   "name": "python3"
  },
  "language_info": {
   "codemirror_mode": {
    "name": "ipython",
    "version": 3
   },
   "file_extension": ".py",
   "mimetype": "text/x-python",
   "name": "python",
   "nbconvert_exporter": "python",
   "pygments_lexer": "ipython3",
   "version": "3.9.13"
  },
  "orig_nbformat": 4
 },
 "nbformat": 4,
 "nbformat_minor": 2
}
